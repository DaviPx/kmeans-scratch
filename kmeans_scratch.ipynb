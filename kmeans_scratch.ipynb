{
 "cells": [
  {
   "cell_type": "markdown",
   "metadata": {},
   "source": [
    "# Tarefa 1: Aprendizado Não-Supervisionado"
   ]
  },
  {
   "cell_type": "markdown",
   "metadata": {},
   "source": [
    "**Autor**: Matheus Jericó Palhares <br>\n",
    "**LinkedIn**: https://linkedin.com/in/matheusjerico <br>\n",
    "**Github**: https://github.com/matheusjerico"
   ]
  },
  {
   "cell_type": "markdown",
   "metadata": {},
   "source": [
    "### 1) Implementar a função “fit_k_means(pontos, parada, max_iter)”, com K fixo e igual a 3. Retorne os centróides finais.\n",
    "\n",
    "**Variáveis**:\n",
    "- pontos: conjunto de pontos 2D (casos x mortes) que serão clusterizados\n",
    "- parada: valor da variação dos clusters que indicará o fim do treinamento, i.e., se distancia(centroide_antigo, centroide_novo) < parada então termine o treinamento\n",
    "- max_iter: quantidade máxima de vezes que o algoritmo deve ser repetido caso “parada” não seja alcançada\n"
   ]
  },
  {
   "cell_type": "markdown",
   "metadata": {},
   "source": [
    "O relatório será o notebook exportado para um arquivo HTML e deve conter:\n",
    "- Um scatter plot mostrando os centróides (com marcador x) e seus respectivos pontos (cada cluster deve estar em uma cor distinta)\n",
    "- Para cada cluster, também devem ser exibidas as distâncias médias entre os pontos e seu respectivo centróide final\n",
    "- Discorra sobre cada cluster: o que eles indicam?\n"
   ]
  },
  {
   "cell_type": "markdown",
   "metadata": {},
   "source": [
    "#### 1. Bibliotecas"
   ]
  },
  {
   "cell_type": "code",
   "execution_count": 1,
   "metadata": {},
   "outputs": [],
   "source": [
    "import numpy as np\n",
    "import matplotlib.pyplot as plt\n",
    "import pandas as pd\n",
    "import random as rd\n",
    "from copy import deepcopy"
   ]
  },
  {
   "cell_type": "markdown",
   "metadata": {},
   "source": [
    "#### 2. Carregando dados"
   ]
  },
  {
   "cell_type": "code",
   "execution_count": 2,
   "metadata": {},
   "outputs": [
    {
     "data": {
      "text/html": [
       "<div>\n",
       "<style scoped>\n",
       "    .dataframe tbody tr th:only-of-type {\n",
       "        vertical-align: middle;\n",
       "    }\n",
       "\n",
       "    .dataframe tbody tr th {\n",
       "        vertical-align: top;\n",
       "    }\n",
       "\n",
       "    .dataframe thead th {\n",
       "        text-align: right;\n",
       "    }\n",
       "</style>\n",
       "<table border=\"1\" class=\"dataframe\">\n",
       "  <thead>\n",
       "    <tr style=\"text-align: right;\">\n",
       "      <th></th>\n",
       "      <th>county</th>\n",
       "      <th>cases</th>\n",
       "      <th>deaths</th>\n",
       "    </tr>\n",
       "  </thead>\n",
       "  <tbody>\n",
       "    <tr>\n",
       "      <th>0</th>\n",
       "      <td>Abbeville</td>\n",
       "      <td>84</td>\n",
       "      <td>0</td>\n",
       "    </tr>\n",
       "    <tr>\n",
       "      <th>1</th>\n",
       "      <td>Acadia</td>\n",
       "      <td>741</td>\n",
       "      <td>21</td>\n",
       "    </tr>\n",
       "    <tr>\n",
       "      <th>2</th>\n",
       "      <td>Accomack</td>\n",
       "      <td>116</td>\n",
       "      <td>0</td>\n",
       "    </tr>\n",
       "    <tr>\n",
       "      <th>3</th>\n",
       "      <td>Ada</td>\n",
       "      <td>4264</td>\n",
       "      <td>41</td>\n",
       "    </tr>\n",
       "    <tr>\n",
       "      <th>4</th>\n",
       "      <td>Adair</td>\n",
       "      <td>325</td>\n",
       "      <td>8</td>\n",
       "    </tr>\n",
       "  </tbody>\n",
       "</table>\n",
       "</div>"
      ],
      "text/plain": [
       "      county  cases  deaths\n",
       "0  Abbeville     84       0\n",
       "1     Acadia    741      21\n",
       "2   Accomack    116       0\n",
       "3        Ada   4264      41\n",
       "4      Adair    325       8"
      ]
     },
     "execution_count": 2,
     "metadata": {},
     "output_type": "execute_result"
    }
   ],
   "source": [
    "dataset = pd.read_csv(\"Dataset/base-covid-19-us.csv\")\n",
    "dataset.head()"
   ]
  },
  {
   "cell_type": "code",
   "execution_count": 3,
   "metadata": {},
   "outputs": [
    {
     "data": {
      "text/plain": [
       "(1570, 3)"
      ]
     },
     "execution_count": 3,
     "metadata": {},
     "output_type": "execute_result"
    }
   ],
   "source": [
    "dataset.shape"
   ]
  },
  {
   "cell_type": "code",
   "execution_count": 4,
   "metadata": {},
   "outputs": [],
   "source": [
    "dataset.sort_values(by=['deaths'], inplace=True)"
   ]
  },
  {
   "cell_type": "code",
   "execution_count": 5,
   "metadata": {},
   "outputs": [
    {
     "data": {
      "text/plain": [
       "<matplotlib.collections.PathCollection at 0x7fe37a035898>"
      ]
     },
     "execution_count": 5,
     "metadata": {},
     "output_type": "execute_result"
    },
    {
     "data": {
      "image/png": "[encoded data removed]",
      "text/plain": [
       "<Figure size 432x288 with 1 Axes>"
      ]
     },
     "metadata": {
      "needs_background": "light"
     },
     "output_type": "display_data"
    }
   ],
   "source": [
    "cases = dataset['cases'].values\n",
    "deaths = dataset['deaths'].values\n",
    "X = np.array(list(zip(cases, deaths)))\n",
    "plt.scatter(cases, deaths, c='black', s=10)"
   ]
  },
  {
   "cell_type": "markdown",
   "metadata": {},
   "source": [
    "#### 3. Criando classe do KMeans"
   ]
  },
  {
   "cell_type": "code",
   "execution_count": 6,
   "metadata": {},
   "outputs": [],
   "source": [
    "class K_Means:\n",
    "    def __init__(self, pontos, parada = 0.00000001, max_iter = 100):\n",
    "        self.k = 3\n",
    "        self.parada = parada\n",
    "        self.max_iter = max_iter\n",
    "        self.data = pontos\n",
    "\n",
    "    # Calculando distância euclidiana\n",
    "    def dist(self, a, b, ax=1):\n",
    "        return np.linalg.norm(a - b, axis=ax)\n",
    "\n",
    "    def fit(self):\n",
    "        # coordenada X centroide\n",
    "        centroids_x = np.random.randint(0, np.median(self.data), size=self.k)\n",
    "        # coordenada Y centroide\n",
    "        centroids_y = np.random.randint(0, np.median(self.data), size=self.k)\n",
    "        self.centroids = np.array(list(zip(centroids_x, centroids_y)), dtype=np.float32)\n",
    "        \n",
    "        # armazenando o valor dos centroides quando ele for atualizado\n",
    "        self.centroids_old = np.zeros(self.centroids.shape)\n",
    "        \n",
    "        # label dos clusters \n",
    "        self.clusters = np.zeros(len(self.data))\n",
    "        # distancia entre centroide novo e centroide antigo\n",
    "        error = self.dist(self.centroids, self.centroids_old, None)\n",
    "        # Loop de treinamento\n",
    "        for i in range(self.max_iter):\n",
    "            # atribuindo cada valor ao cluster mais próximo\n",
    "            for i in range(len(self.data)):\n",
    "                distances = self.dist(self.data[i], self.centroids)\n",
    "                self.cluster = np.argmin(distances)\n",
    "                self.clusters[i] = self.cluster\n",
    "            # guardando valores do centroide antigo\n",
    "            self.centroids_old = deepcopy(self.centroids)\n",
    "            # encontrando novo centroide\n",
    "            for i in range(self.k):\n",
    "                self.points = [self.data[j] for j in range(len(self.data)) if self.clusters[j] == i]\n",
    "                self.centroids[i] = np.mean(self.points, axis=0)\n",
    "            error = self.dist(self.centroids, self.centroids_old, None)\n",
    "            if error <= self.parada:\n",
    "                break"
   ]
  },
  {
   "cell_type": "markdown",
   "metadata": {},
   "source": [
    "#### 4. Inicializando a classe com os parametros desejados do exercício e realizando o treinamento"
   ]
  },
  {
   "cell_type": "code",
   "execution_count": 7,
   "metadata": {},
   "outputs": [],
   "source": [
    "kmeans = K_Means(pontos = X, parada = 0.0001, max_iter = 100)\n",
    "kmeans.fit()"
   ]
  },
  {
   "cell_type": "code",
   "execution_count": 8,
   "metadata": {},
   "outputs": [
    {
     "data": {
      "text/plain": [
       "array([[1.1869150e+03, 2.8396652e+01],\n",
       "       [8.8945375e+04, 2.1148750e+03],\n",
       "       [8.6882400e+05, 3.1887000e+04]], dtype=float32)"
      ]
     },
     "execution_count": 8,
     "metadata": {},
     "output_type": "execute_result"
    }
   ],
   "source": [
    "kmeans.centroids"
   ]
  },
  {
   "cell_type": "code",
   "execution_count": 9,
   "metadata": {},
   "outputs": [],
   "source": [
    "dataset['cluster'] = kmeans.clusters"
   ]
  },
  {
   "cell_type": "code",
   "execution_count": 10,
   "metadata": {},
   "outputs": [
    {
     "name": "stdout",
     "output_type": "stream",
     "text": [
      "<class 'pandas.core.frame.DataFrame'>\n",
      "Int64Index: 1570 entries, 0 to 995\n",
      "Data columns (total 4 columns):\n",
      " #   Column   Non-Null Count  Dtype  \n",
      "---  ------   --------------  -----  \n",
      " 0   county   1570 non-null   object \n",
      " 1   cases    1570 non-null   int64  \n",
      " 2   deaths   1570 non-null   int64  \n",
      " 3   cluster  1570 non-null   float64\n",
      "dtypes: float64(1), int64(2), object(1)\n",
      "memory usage: 61.3+ KB\n"
     ]
    }
   ],
   "source": [
    "dataset.info()"
   ]
  },
  {
   "cell_type": "code",
   "execution_count": 11,
   "metadata": {},
   "outputs": [
    {
     "data": {
      "text/html": [
       "<div>\n",
       "<style scoped>\n",
       "    .dataframe tbody tr th:only-of-type {\n",
       "        vertical-align: middle;\n",
       "    }\n",
       "\n",
       "    .dataframe tbody tr th {\n",
       "        vertical-align: top;\n",
       "    }\n",
       "\n",
       "    .dataframe thead th {\n",
       "        text-align: right;\n",
       "    }\n",
       "</style>\n",
       "<table border=\"1\" class=\"dataframe\">\n",
       "  <thead>\n",
       "    <tr style=\"text-align: right;\">\n",
       "      <th></th>\n",
       "      <th>county</th>\n",
       "      <th>cases</th>\n",
       "      <th>deaths</th>\n",
       "      <th>cluster</th>\n",
       "    </tr>\n",
       "  </thead>\n",
       "  <tbody>\n",
       "    <tr>\n",
       "      <th>0</th>\n",
       "      <td>Abbeville</td>\n",
       "      <td>84</td>\n",
       "      <td>0</td>\n",
       "      <td>0.0</td>\n",
       "    </tr>\n",
       "    <tr>\n",
       "      <th>865</th>\n",
       "      <td>Manitowoc</td>\n",
       "      <td>17</td>\n",
       "      <td>0</td>\n",
       "      <td>0.0</td>\n",
       "    </tr>\n",
       "    <tr>\n",
       "      <th>866</th>\n",
       "      <td>Marathon</td>\n",
       "      <td>108</td>\n",
       "      <td>0</td>\n",
       "      <td>0.0</td>\n",
       "    </tr>\n",
       "    <tr>\n",
       "      <th>869</th>\n",
       "      <td>Maries</td>\n",
       "      <td>20</td>\n",
       "      <td>0</td>\n",
       "      <td>0.0</td>\n",
       "    </tr>\n",
       "    <tr>\n",
       "      <th>871</th>\n",
       "      <td>Marinette</td>\n",
       "      <td>27</td>\n",
       "      <td>0</td>\n",
       "      <td>0.0</td>\n",
       "    </tr>\n",
       "  </tbody>\n",
       "</table>\n",
       "</div>"
      ],
      "text/plain": [
       "        county  cases  deaths  cluster\n",
       "0    Abbeville     84       0      0.0\n",
       "865  Manitowoc     17       0      0.0\n",
       "866   Marathon    108       0      0.0\n",
       "869     Maries     20       0      0.0\n",
       "871  Marinette     27       0      0.0"
      ]
     },
     "execution_count": 11,
     "metadata": {},
     "output_type": "execute_result"
    }
   ],
   "source": [
    "dataset.head()"
   ]
  },
  {
   "cell_type": "markdown",
   "metadata": {},
   "source": [
    "#### 5. Visualizando graficamente"
   ]
  },
  {
   "cell_type": "code",
   "execution_count": 12,
   "metadata": {},
   "outputs": [
    {
     "data": {
      "image/png": "[encoded data removed]",
      "text/plain": [
       "<Figure size 432x288 with 1 Axes>"
      ]
     },
     "metadata": {
      "needs_background": "light"
     },
     "output_type": "display_data"
    }
   ],
   "source": [
    "colors = ['r', 'g', 'b', 'y', 'c', 'm']\n",
    "fig, ax = plt.subplots()\n",
    "for i in range(kmeans.k):\n",
    "        points = np.array([X[j] for j in range(len(X)) if kmeans.clusters[j] == i])\n",
    "        ax.scatter(points[:, 0], points[:, 1], s=7, c=colors[i])\n",
    "        ax.scatter(kmeans.centroids[:, 0], kmeans.centroids[:, 1], marker='X', s=100, c='black')"
   ]
  },
  {
   "cell_type": "code",
   "execution_count": 13,
   "metadata": {},
   "outputs": [
    {
     "data": {
      "text/plain": [
       "array([[1.1869150e+03, 2.8396652e+01],\n",
       "       [8.8945375e+04, 2.1148750e+03],\n",
       "       [8.6882400e+05, 3.1887000e+04]], dtype=float32)"
      ]
     },
     "execution_count": 13,
     "metadata": {},
     "output_type": "execute_result"
    }
   ],
   "source": [
    "kmeans.centroids"
   ]
  },
  {
   "cell_type": "markdown",
   "metadata": {},
   "source": [
    "**Resposta**: <br>\n",
    "Os clusters representam os estados com base na quantidade de casos e mortes do COVID-19.\n",
    "- O primeiro cluster (verde), representa os estados que tiveram baixa quantidade de casos e mortes devido ao COVID-19\n",
    "- O segundo cluster(azul), representa os estados que tiveram quantidade moderada/alta de casos e mortes devido ao COVID-19.\n",
    "- O terceiro cluster (vermelho), representa o estado de New York (possuem uma quantidade muito elevada de casos de COVID-19\n"
   ]
  },
  {
   "cell_type": "markdown",
   "metadata": {},
   "source": [
    "#### 6. Para cada cluster, também devem ser exibidas as distâncias médias entre os pontos e seu respectivo centróide final"
   ]
  },
  {
   "cell_type": "code",
   "execution_count": 14,
   "metadata": {},
   "outputs": [],
   "source": [
    "dataset['centroide_x'] = np.nan\n",
    "dataset['centroide_y'] = np.nan"
   ]
  },
  {
   "cell_type": "code",
   "execution_count": 15,
   "metadata": {},
   "outputs": [],
   "source": [
    "dataset.loc[dataset['cluster'] == 0.0, 'centroide_x'] = kmeans.centroids[0][0]\n",
    "dataset.loc[dataset['cluster'] == 0.0, 'centroide_y'] = kmeans.centroids[0][1]\n",
    "dataset.loc[dataset['cluster'] == 1.0, 'centroide_x'] = kmeans.centroids[1][0]\n",
    "dataset.loc[dataset['cluster'] == 1.0, 'centroide_y'] = kmeans.centroids[1][1]\n",
    "dataset.loc[dataset['cluster'] == 2.0, 'centroide_x'] = kmeans.centroids[2][0]\n",
    "dataset.loc[dataset['cluster'] == 2.0, 'centroide_y'] = kmeans.centroids[2][1]"
   ]
  },
  {
   "cell_type": "code",
   "execution_count": 16,
   "metadata": {},
   "outputs": [],
   "source": [
    "dataset['distancia_x'] = np.abs(dataset['cases'] - dataset['centroide_x'])\n",
    "dataset['distancia_y'] = np.abs(dataset['deaths'] - dataset['centroide_y'])"
   ]
  },
  {
   "cell_type": "code",
   "execution_count": 17,
   "metadata": {},
   "outputs": [
    {
     "name": "stdout",
     "output_type": "stream",
     "text": [
      "Distância média (eixo X) entre os pontos do centroide 0.0: 1638.429133506721\n",
      "Distância média (eixo Y) entre os pontos do centroide 0.0: 40.70434138979055\n",
      "Distância média (eixo X) entre os pontos do centroide 1.0: 37588.515625\n",
      "Distância média (eixo Y) entre os pontos do centroide 1.0: 813.609375\n",
      "Distância média (eixo X) entre os pontos do centroide 2.0: 0.0\n",
      "Distância média (eixo Y) entre os pontos do centroide 2.0: 0.0\n"
     ]
    }
   ],
   "source": [
    "print(\"Distância média (eixo X) entre os pontos do centroide 0.0: {}\".format(np.mean(dataset[dataset['cluster']==0.0]['distancia_x'])))\n",
    "print(\"Distância média (eixo Y) entre os pontos do centroide 0.0: {}\".format(np.mean(dataset[dataset['cluster']==0.0]['distancia_y'])))\n",
    "print(\"Distância média (eixo X) entre os pontos do centroide 1.0: {}\".format(np.mean(dataset[dataset['cluster']==1.0]['distancia_x'])))\n",
    "print(\"Distância média (eixo Y) entre os pontos do centroide 1.0: {}\".format(np.mean(dataset[dataset['cluster']==1.0]['distancia_y'])))\n",
    "print(\"Distância média (eixo X) entre os pontos do centroide 2.0: {}\".format(np.mean(dataset[dataset['cluster']==2.0]['distancia_x'])))\n",
    "print(\"Distância média (eixo Y) entre os pontos do centroide 2.0: {}\".format(np.mean(dataset[dataset['cluster']==2.0]['distancia_y'])))"
   ]
  },
  {
   "cell_type": "markdown",
   "metadata": {},
   "source": [
    "### **Obs**: Retirando o estado de New York, a visualização do cluster fica muito melhor."
   ]
  },
  {
   "cell_type": "markdown",
   "metadata": {},
   "source": [
    "#### 7. Retirando o estado de New York\n",
    "- Retirar o estado de New York, utilizar o algoritmo Kmeans e visualizar os cluster."
   ]
  },
  {
   "cell_type": "code",
   "execution_count": 19,
   "metadata": {},
   "outputs": [],
   "source": [
    "dataset=dataset.iloc[:-1,:]"
   ]
  },
  {
   "cell_type": "code",
   "execution_count": 20,
   "metadata": {},
   "outputs": [
    {
     "data": {
      "text/plain": [
       "<matplotlib.collections.PathCollection at 0x7fe379eeb518>"
      ]
     },
     "execution_count": 20,
     "metadata": {},
     "output_type": "execute_result"
    },
    {
     "data": {
      "image/png": "[encoded data removed]",
      "text/plain": [
       "<Figure size 432x288 with 1 Axes>"
      ]
     },
     "metadata": {
      "needs_background": "light"
     },
     "output_type": "display_data"
    }
   ],
   "source": [
    "cases = dataset['cases'].values\n",
    "deaths = dataset['deaths'].values\n",
    "X = np.array(list(zip(cases, deaths)))\n",
    "plt.scatter(cases, deaths, c='black', s=10)"
   ]
  },
  {
   "cell_type": "code",
   "execution_count": 21,
   "metadata": {},
   "outputs": [],
   "source": [
    "kmeans = K_Means(pontos = X, parada = 0.0001, max_iter = 100)\n",
    "kmeans.fit()"
   ]
  },
  {
   "cell_type": "code",
   "execution_count": 22,
   "metadata": {},
   "outputs": [
    {
     "data": {
      "image/png": "[encoded data removed]",
      "text/plain": [
       "<Figure size 432x288 with 1 Axes>"
      ]
     },
     "metadata": {
      "needs_background": "light"
     },
     "output_type": "display_data"
    }
   ],
   "source": [
    "colors = ['r', 'g', 'b', 'y', 'c', 'm']\n",
    "fig, ax = plt.subplots()\n",
    "for i in range(kmeans.k):\n",
    "        points = np.array([X[j] for j in range(len(X)) if kmeans.clusters[j] == i])\n",
    "        ax.scatter(points[:, 0], points[:, 1], s=7, c=colors[i])\n",
    "        ax.scatter(kmeans.centroids[:, 0], kmeans.centroids[:, 1], marker='X', s=100, c='black')"
   ]
  },
  {
   "cell_type": "code",
   "execution_count": 23,
   "metadata": {},
   "outputs": [
    {
     "data": {
      "text/plain": [
       "array([[1.8495167e+05, 2.7943333e+03],\n",
       "       [1.0462534e+03, 2.5062702e+01],\n",
       "       [5.7526105e+04, 1.6201578e+03]], dtype=float32)"
      ]
     },
     "execution_count": 23,
     "metadata": {},
     "output_type": "execute_result"
    }
   ],
   "source": [
    "kmeans.centroids"
   ]
  },
  {
   "cell_type": "code",
   "execution_count": 24,
   "metadata": {},
   "outputs": [],
   "source": [
    "dataset['cluster'] = kmeans.clusters"
   ]
  },
  {
   "cell_type": "code",
   "execution_count": 25,
   "metadata": {},
   "outputs": [],
   "source": [
    "dataset['centroide_x'] = np.nan\n",
    "dataset['centroide_y'] = np.nan"
   ]
  },
  {
   "cell_type": "code",
   "execution_count": 26,
   "metadata": {},
   "outputs": [],
   "source": [
    "dataset.loc[dataset['cluster'] == 0.0, 'centroide_x'] = kmeans.centroids[0][0]\n",
    "dataset.loc[dataset['cluster'] == 0.0, 'centroide_y'] = kmeans.centroids[0][1]\n",
    "dataset.loc[dataset['cluster'] == 1.0, 'centroide_x'] = kmeans.centroids[1][0]\n",
    "dataset.loc[dataset['cluster'] == 1.0, 'centroide_y'] = kmeans.centroids[1][1]\n",
    "dataset.loc[dataset['cluster'] == 2.0, 'centroide_x'] = kmeans.centroids[2][0]\n",
    "dataset.loc[dataset['cluster'] == 2.0, 'centroide_y'] = kmeans.centroids[2][1]"
   ]
  },
  {
   "cell_type": "code",
   "execution_count": 27,
   "metadata": {},
   "outputs": [],
   "source": [
    "dataset['distancia_x'] = np.abs(dataset['cases'] - dataset['centroide_x'])\n",
    "dataset['distancia_y'] = np.abs(dataset['deaths'] - dataset['centroide_y'])"
   ]
  },
  {
   "cell_type": "code",
   "execution_count": 28,
   "metadata": {},
   "outputs": [
    {
     "name": "stdout",
     "output_type": "stream",
     "text": [
      "Distância média (eixo X) entre os pontos do centroide 0.0: 4149.557291666667\n",
      "Distância média (eixo Y) entre os pontos do centroide 0.0: 821.111083984375\n",
      "Distância média (eixo X) entre os pontos do centroide 1.0: 1413.854592873808\n",
      "Distância média (eixo Y) entre os pontos do centroide 1.0: 35.405063352973215\n",
      "Distância média (eixo X) entre os pontos do centroide 2.0: 15709.806126644737\n",
      "Distância média (eixo Y) entre os pontos do centroide 2.0: 834.6925177323191\n"
     ]
    }
   ],
   "source": [
    "print(\"Distância média (eixo X) entre os pontos do centroide 0.0: {}\".format(np.mean(dataset[dataset['cluster']==0.0]['distancia_x'])))\n",
    "print(\"Distância média (eixo Y) entre os pontos do centroide 0.0: {}\".format(np.mean(dataset[dataset['cluster']==0.0]['distancia_y'])))\n",
    "print(\"Distância média (eixo X) entre os pontos do centroide 1.0: {}\".format(np.mean(dataset[dataset['cluster']==1.0]['distancia_x'])))\n",
    "print(\"Distância média (eixo Y) entre os pontos do centroide 1.0: {}\".format(np.mean(dataset[dataset['cluster']==1.0]['distancia_y'])))\n",
    "print(\"Distância média (eixo X) entre os pontos do centroide 2.0: {}\".format(np.mean(dataset[dataset['cluster']==2.0]['distancia_x'])))\n",
    "print(\"Distância média (eixo Y) entre os pontos do centroide 2.0: {}\".format(np.mean(dataset[dataset['cluster']==2.0]['distancia_y'])))"
   ]
  }
 ],
 "metadata": {
  "kernelspec": {
   "display_name": "Python 3",
   "language": "python",
   "name": "python3"
  },
  "language_info": {
   "codemirror_mode": {
    "name": "ipython",
    "version": 3
   },
   "file_extension": ".py",
   "mimetype": "text/x-python",
   "name": "python",
   "nbconvert_exporter": "python",
   "pygments_lexer": "ipython3",
   "version": "3.6.10"
  }
 },
 "nbformat": 4,
 "nbformat_minor": 4
}
